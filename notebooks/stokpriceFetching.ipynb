{
 "cells": [
  {
   "cell_type": "code",
   "execution_count": 14,
   "metadata": {},
   "outputs": [],
   "source": [
    "import pandas as pd\n",
    "import yfinance as yf\n",
    "import matplotlib.pyplot as plt"
   ]
  },
  {
   "cell_type": "code",
   "execution_count": 5,
   "metadata": {},
   "outputs": [],
   "source": [
    "# Load dataset\n",
    "df = pd.read_csv(\"../data/raw_analyst_ratings.csv\")"
   ]
  },
  {
   "cell_type": "code",
   "execution_count": 12,
   "metadata": {},
   "outputs": [
    {
     "data": {
      "text/html": [
       "<div>\n",
       "<style scoped>\n",
       "    .dataframe tbody tr th:only-of-type {\n",
       "        vertical-align: middle;\n",
       "    }\n",
       "\n",
       "    .dataframe tbody tr th {\n",
       "        vertical-align: top;\n",
       "    }\n",
       "\n",
       "    .dataframe thead th {\n",
       "        text-align: right;\n",
       "    }\n",
       "</style>\n",
       "<table border=\"1\" class=\"dataframe\">\n",
       "  <thead>\n",
       "    <tr style=\"text-align: right;\">\n",
       "      <th></th>\n",
       "      <th>Unnamed: 0</th>\n",
       "      <th>headline</th>\n",
       "      <th>url</th>\n",
       "      <th>publisher</th>\n",
       "      <th>date</th>\n",
       "      <th>stock</th>\n",
       "    </tr>\n",
       "  </thead>\n",
       "  <tbody>\n",
       "    <tr>\n",
       "      <th>0</th>\n",
       "      <td>0</td>\n",
       "      <td>Stocks That Hit 52-Week Highs On Friday</td>\n",
       "      <td>https://www.benzinga.com/news/20/06/16190091/s...</td>\n",
       "      <td>Benzinga Insights</td>\n",
       "      <td>2020-06-05 10:30:54-04:00</td>\n",
       "      <td>A</td>\n",
       "    </tr>\n",
       "    <tr>\n",
       "      <th>1</th>\n",
       "      <td>1</td>\n",
       "      <td>Stocks That Hit 52-Week Highs On Wednesday</td>\n",
       "      <td>https://www.benzinga.com/news/20/06/16170189/s...</td>\n",
       "      <td>Benzinga Insights</td>\n",
       "      <td>2020-06-03 10:45:20-04:00</td>\n",
       "      <td>A</td>\n",
       "    </tr>\n",
       "    <tr>\n",
       "      <th>2</th>\n",
       "      <td>2</td>\n",
       "      <td>71 Biggest Movers From Friday</td>\n",
       "      <td>https://www.benzinga.com/news/20/05/16103463/7...</td>\n",
       "      <td>Lisa Levin</td>\n",
       "      <td>2020-05-26 04:30:07-04:00</td>\n",
       "      <td>A</td>\n",
       "    </tr>\n",
       "    <tr>\n",
       "      <th>3</th>\n",
       "      <td>3</td>\n",
       "      <td>46 Stocks Moving In Friday's Mid-Day Session</td>\n",
       "      <td>https://www.benzinga.com/news/20/05/16095921/4...</td>\n",
       "      <td>Lisa Levin</td>\n",
       "      <td>2020-05-22 12:45:06-04:00</td>\n",
       "      <td>A</td>\n",
       "    </tr>\n",
       "    <tr>\n",
       "      <th>4</th>\n",
       "      <td>4</td>\n",
       "      <td>B of A Securities Maintains Neutral on Agilent...</td>\n",
       "      <td>https://www.benzinga.com/news/20/05/16095304/b...</td>\n",
       "      <td>Vick Meyer</td>\n",
       "      <td>2020-05-22 11:38:59-04:00</td>\n",
       "      <td>A</td>\n",
       "    </tr>\n",
       "  </tbody>\n",
       "</table>\n",
       "</div>"
      ],
      "text/plain": [
       "   Unnamed: 0                                           headline  \\\n",
       "0           0            Stocks That Hit 52-Week Highs On Friday   \n",
       "1           1         Stocks That Hit 52-Week Highs On Wednesday   \n",
       "2           2                      71 Biggest Movers From Friday   \n",
       "3           3       46 Stocks Moving In Friday's Mid-Day Session   \n",
       "4           4  B of A Securities Maintains Neutral on Agilent...   \n",
       "\n",
       "                                                 url          publisher  \\\n",
       "0  https://www.benzinga.com/news/20/06/16190091/s...  Benzinga Insights   \n",
       "1  https://www.benzinga.com/news/20/06/16170189/s...  Benzinga Insights   \n",
       "2  https://www.benzinga.com/news/20/05/16103463/7...         Lisa Levin   \n",
       "3  https://www.benzinga.com/news/20/05/16095921/4...         Lisa Levin   \n",
       "4  https://www.benzinga.com/news/20/05/16095304/b...         Vick Meyer   \n",
       "\n",
       "                       date stock  \n",
       "0 2020-06-05 10:30:54-04:00     A  \n",
       "1 2020-06-03 10:45:20-04:00     A  \n",
       "2 2020-05-26 04:30:07-04:00     A  \n",
       "3 2020-05-22 12:45:06-04:00     A  \n",
       "4 2020-05-22 11:38:59-04:00     A  "
      ]
     },
     "execution_count": 12,
     "metadata": {},
     "output_type": "execute_result"
    }
   ],
   "source": [
    "df.head()"
   ]
  },
  {
   "cell_type": "code",
   "execution_count": 7,
   "metadata": {},
   "outputs": [],
   "source": [
    "# Convert 'date' column to datetime\n",
    "df[\"date\"] = pd.to_datetime(df[\"date\"], errors=\"coerce\")"
   ]
  },
  {
   "cell_type": "code",
   "execution_count": 13,
   "metadata": {},
   "outputs": [
    {
     "data": {
      "text/html": [
       "<div>\n",
       "<style scoped>\n",
       "    .dataframe tbody tr th:only-of-type {\n",
       "        vertical-align: middle;\n",
       "    }\n",
       "\n",
       "    .dataframe tbody tr th {\n",
       "        vertical-align: top;\n",
       "    }\n",
       "\n",
       "    .dataframe thead tr th {\n",
       "        text-align: left;\n",
       "    }\n",
       "\n",
       "    .dataframe thead tr:last-of-type th {\n",
       "        text-align: right;\n",
       "    }\n",
       "</style>\n",
       "<table border=\"1\" class=\"dataframe\">\n",
       "  <thead>\n",
       "    <tr>\n",
       "      <th></th>\n",
       "      <th colspan=\"2\" halign=\"left\">date</th>\n",
       "    </tr>\n",
       "    <tr>\n",
       "      <th></th>\n",
       "      <th>min</th>\n",
       "      <th>max</th>\n",
       "    </tr>\n",
       "    <tr>\n",
       "      <th>stock</th>\n",
       "      <th></th>\n",
       "      <th></th>\n",
       "    </tr>\n",
       "  </thead>\n",
       "  <tbody>\n",
       "    <tr>\n",
       "      <th>A</th>\n",
       "      <td>2020-05-22 08:06:17-04:00</td>\n",
       "      <td>2020-06-05 10:30:54-04:00</td>\n",
       "    </tr>\n",
       "    <tr>\n",
       "      <th>AA</th>\n",
       "      <td>2020-05-18 10:50:11-04:00</td>\n",
       "      <td>2020-06-09 10:52:15-04:00</td>\n",
       "    </tr>\n",
       "    <tr>\n",
       "      <th>AAC</th>\n",
       "      <td>2019-08-30 08:10:37-04:00</td>\n",
       "      <td>2019-10-25 16:09:59-04:00</td>\n",
       "    </tr>\n",
       "    <tr>\n",
       "      <th>AADR</th>\n",
       "      <td>2013-03-05 15:42:46-04:00</td>\n",
       "      <td>2013-09-06 15:06:35-04:00</td>\n",
       "    </tr>\n",
       "    <tr>\n",
       "      <th>AAL</th>\n",
       "      <td>2020-06-08 10:19:28-04:00</td>\n",
       "      <td>2020-06-10 11:21:01-04:00</td>\n",
       "    </tr>\n",
       "    <tr>\n",
       "      <th>...</th>\n",
       "      <td>...</td>\n",
       "      <td>...</td>\n",
       "    </tr>\n",
       "    <tr>\n",
       "      <th>ZTR</th>\n",
       "      <td>2016-04-01 15:23:43-04:00</td>\n",
       "      <td>2020-03-19 10:49:42-04:00</td>\n",
       "    </tr>\n",
       "    <tr>\n",
       "      <th>ZTS</th>\n",
       "      <td>2020-05-05 12:44:19-04:00</td>\n",
       "      <td>2020-06-11 10:22:31-04:00</td>\n",
       "    </tr>\n",
       "    <tr>\n",
       "      <th>ZU</th>\n",
       "      <td>2015-08-17 10:36:13-04:00</td>\n",
       "      <td>2020-01-09 14:34:23-04:00</td>\n",
       "    </tr>\n",
       "    <tr>\n",
       "      <th>ZUMZ</th>\n",
       "      <td>2020-04-13 10:01:37-04:00</td>\n",
       "      <td>2020-06-05 07:24:15-04:00</td>\n",
       "    </tr>\n",
       "    <tr>\n",
       "      <th>ZX</th>\n",
       "      <td>2017-11-14 13:25:57-04:00</td>\n",
       "      <td>2018-06-15 09:01:12-04:00</td>\n",
       "    </tr>\n",
       "  </tbody>\n",
       "</table>\n",
       "<p>6204 rows × 2 columns</p>\n",
       "</div>"
      ],
      "text/plain": [
       "                           date                          \n",
       "                            min                       max\n",
       "stock                                                    \n",
       "A     2020-05-22 08:06:17-04:00 2020-06-05 10:30:54-04:00\n",
       "AA    2020-05-18 10:50:11-04:00 2020-06-09 10:52:15-04:00\n",
       "AAC   2019-08-30 08:10:37-04:00 2019-10-25 16:09:59-04:00\n",
       "AADR  2013-03-05 15:42:46-04:00 2013-09-06 15:06:35-04:00\n",
       "AAL   2020-06-08 10:19:28-04:00 2020-06-10 11:21:01-04:00\n",
       "...                         ...                       ...\n",
       "ZTR   2016-04-01 15:23:43-04:00 2020-03-19 10:49:42-04:00\n",
       "ZTS   2020-05-05 12:44:19-04:00 2020-06-11 10:22:31-04:00\n",
       "ZU    2015-08-17 10:36:13-04:00 2020-01-09 14:34:23-04:00\n",
       "ZUMZ  2020-04-13 10:01:37-04:00 2020-06-05 07:24:15-04:00\n",
       "ZX    2017-11-14 13:25:57-04:00 2018-06-15 09:01:12-04:00\n",
       "\n",
       "[6204 rows x 2 columns]"
      ]
     },
     "execution_count": 13,
     "metadata": {},
     "output_type": "execute_result"
    }
   ],
   "source": [
    "# Determine date ranges\n",
    "date_ranges = df.groupby(\"stock\").agg({\"date\": [\"min\", \"max\"]})\n",
    "date_ranges"
   ]
  },
  {
   "cell_type": "code",
   "execution_count": 17,
   "metadata": {},
   "outputs": [
    {
     "name": "stderr",
     "output_type": "stream",
     "text": [
      "[*********************100%%**********************]  1 of 1 completed\n"
     ]
    }
   ],
   "source": [
    "# Fetch stock data for 'A' within its date range\n",
    "stock = \"A\"\n",
    "start_date = date_ranges.loc[stock, (\"date\", \"min\")]\n",
    "end_date = date_ranges.loc[stock, (\"date\", \"max\")]\n",
    "stock_data = yf.download(stock, start=start_date, end=end_date)"
   ]
  },
  {
   "cell_type": "code",
   "execution_count": 18,
   "metadata": {},
   "outputs": [],
   "source": [
    "# Calculate daily returns\n",
    "stock_data[\"Daily_Return\"] = stock_data[\"Close\"].pct_change()"
   ]
  },
  {
   "cell_type": "code",
   "execution_count": 19,
   "metadata": {},
   "outputs": [
    {
     "data": {
      "image/png": "[encoded data removed]",
      "text/plain": [
       "<Figure size 1000x600 with 1 Axes>"
      ]
     },
     "metadata": {},
     "output_type": "display_data"
    },
    {
     "name": "stdout",
     "output_type": "stream",
     "text": [
      "                 Open       High        Low      Close  Adj Close   Volume  \\\n",
      "Date                                                                         \n",
      "2020-05-22  85.000000  87.669998  84.199997  84.980003  82.769768  5063100   \n",
      "2020-05-26  86.230003  86.790001  85.639999  86.129997  83.889854  3173400   \n",
      "2020-05-27  86.300003  86.480003  84.370003  86.180000  83.938553  1917600   \n",
      "2020-05-28  86.870003  87.849998  86.059998  86.690002  84.435287  1908700   \n",
      "2020-05-29  87.169998  88.489998  86.470001  88.139999  85.847565  2394500   \n",
      "\n",
      "            Daily_Return  \n",
      "Date                      \n",
      "2020-05-22           NaN  \n",
      "2020-05-26      0.013533  \n",
      "2020-05-27      0.000581  \n",
      "2020-05-28      0.005918  \n",
      "2020-05-29      0.016726  \n"
     ]
    }
   ],
   "source": [
    "# Plot the stock prices\n",
    "plt.figure(figsize=(10, 6))\n",
    "plt.plot(stock_data.index, stock_data[\"Close\"], label=\"Close Price\")\n",
    "plt.title(\"Stock Prices for A\")\n",
    "plt.xlabel(\"Date\")\n",
    "plt.ylabel(\"Price (USD)\")\n",
    "plt.legend()\n",
    "plt.show()\n",
    "\n",
    "# Print the first few rows of the data\n",
    "print(stock_data.head())"
   ]
  }
 ],
 "metadata": {
  "kernelspec": {
   "display_name": "myvenv",
   "language": "python",
   "name": "python3"
  },
  "language_info": {
   "codemirror_mode": {
    "name": "ipython",
    "version": 3
   },
   "file_extension": ".py",
   "mimetype": "text/x-python",
   "name": "python",
   "nbconvert_exporter": "python",
   "pygments_lexer": "ipython3",
   "version": "3.12.3"
  }
 },
 "nbformat": 4,
 "nbformat_minor": 2
}
